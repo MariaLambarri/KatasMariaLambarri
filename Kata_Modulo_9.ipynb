{
 "cells": [
  {
   "cell_type": "markdown",
   "metadata": {},
   "source": [
    "Ejercicio #1\n",
    "-   Realizar un informe de combustible que requiere información de varias ubicaciones de combustible en todo el cohete"
   ]
  },
  {
   "cell_type": "code",
   "execution_count": 19,
   "metadata": {},
   "outputs": [
    {
     "name": "stdout",
     "output_type": "stream",
     "text": [
      "Fuel Report:\n",
      "    Total Average: 78.33333333333333%\n",
      "    Main tank: 80%\n",
      "    External tank: 70%\n",
      "    Hydrogen tank: 85% \n",
      "    \n",
      "Fuel Report:\n",
      "    Total Average: 78.0%\n",
      "    Main tank: 88%\n",
      "    External tank: 76%\n",
      "    Hydrogen tank: 70% \n",
      "    \n"
     ]
    }
   ],
   "source": [
    "# Función que necesite 3 lecturas de conbustible y devolver el informe\n",
    "def reporte(tanque_principal, tanque_externo, tanque_hidrogeno):\n",
    "    promedio_total = (tanque_principal + tanque_externo + tanque_hidrogeno) / 3\n",
    "    return f\"\"\"Fuel Report:\n",
    "    Total Average: {promedio_total}%\n",
    "    Main tank: {tanque_principal}%\n",
    "    External tank: {tanque_externo}%\n",
    "    Hydrogen tank: {tanque_hidrogeno}% \n",
    "    \"\"\"\n",
    "# Función que genera el reporte print(funcion(tanque1, tanque2, tanque3)) \n",
    "print(reporte(80, 70, 85))\n",
    "\n",
    "#Función para obtener el promedio\n",
    "def promedio(values):\n",
    "    total = sum(values)\n",
    "    numero_items = len(values)\n",
    "    return total/numero_items\n",
    "promedio([80,85,81])\n",
    "#Actualizando la función\n",
    "def reporte(tanque_principal, tanque_externo, tanque_hidrogeno):\n",
    "    return f\"\"\"Fuel Report:\n",
    "    Total Average: {promedio([tanque_principal, tanque_externo, tanque_hidrogeno])}%\n",
    "    Main tank: {tanque_principal}%\n",
    "    External tank: {tanque_externo}%\n",
    "    Hydrogen tank: {tanque_hidrogeno}% \n",
    "    \"\"\"\n",
    "#Llamada a la función actualizada.\n",
    "print(reporte(88, 76, 70))"
   ]
  },
  {
   "cell_type": "markdown",
   "metadata": {},
   "source": [
    "Ejercicio #2\n",
    "-   Trabajo con argumentos de palabra clave\n",
    "-   informe de cohete que requiere varias piezas de información,  como el tiempo hasta el destino, el combustible a la izquierda y el nombre del destino"
   ]
  },
  {
   "cell_type": "code",
   "execution_count": 27,
   "metadata": {},
   "outputs": [
    {
     "name": "stdout",
     "output_type": "stream",
     "text": [
      "\n",
      "    Misión a Luna\n",
      "    Tiempo total de viaje: 65 minutos\n",
      "    Combustible total restante: 500000 galones\n",
      "    \n",
      "\n",
      "    Mission to Moon\n",
      "    Tiempo total de viaje: 76 minutos\n",
      "    Conbustible total restante: 500000\n",
      "    \n",
      "\n",
      "    Mission to Moon\n",
      "    Total travel time: 74 minutes\n",
      "    Total fuel left: 500000\n",
      "    main tank --> 300000 gallons left\n",
      "external tank --> 200000 gallons left\n",
      "\n"
     ]
    }
   ],
   "source": [
    "# Función con un informe preciso de la misión. Considera hora de prelanzamiento, tiempo de vuelo, destino, tanque externo y tanque interno\n",
    "def reporte_mision(hora_prelanzamiento, tiempo_vuelo, destino, tanque_ext, tanque_interno):\n",
    "    return f\"\"\"\n",
    "    Misión a {destino}\n",
    "    Tiempo total de viaje: {hora_prelanzamiento + tiempo_vuelo} minutos\n",
    "    Combustible total restante: {tanque_ext + tanque_interno} galones\n",
    "    \"\"\"\n",
    "print(reporte_mision(14,51,\"Luna\",200000, 300000))  \n",
    "\n",
    "# Nueva función de reporte considerando los puntos anteriores\n",
    "def reporte_mision(destino, *minutes, **fuel_reservoirs):\n",
    "    return f\"\"\"\n",
    "    Mission to {destino}\n",
    "    Tiempo total de viaje: {sum(minutes)} minutos\n",
    "    Conbustible total restante: {sum(fuel_reservoirs.values())}\n",
    "    \"\"\"\n",
    "print(reporte_mision(\"Moon\", 10, 15, 51, main=300000, external=200000))\n",
    "\n",
    "# Escribir nueva función\n",
    "def reporte_mision(destination, *minutes, **fuel_reservoirs):\n",
    "    main_report = f\"\"\"\n",
    "    Mission to {destination}\n",
    "    Total travel time: {sum(minutes)} minutes\n",
    "    Total fuel left: {sum(fuel_reservoirs.values())}\n",
    "    \"\"\"\n",
    "    for tank_name, gallons in fuel_reservoirs.items():\n",
    "        main_report += f\"{tank_name} tank --> {gallons} gallons left\\n\"\n",
    "    return main_report\n",
    "\n",
    "print(reporte_mision(\"Moon\", 8, 11, 55, main=300000, external=200000))"
   ]
  }
 ],
 "metadata": {
  "interpreter": {
   "hash": "33541a670e8887513ebdf0f19cec6625b51694c5ef6b1c7e83282c54d5cd54e5"
  },
  "kernelspec": {
   "display_name": "Python 3.10.2 64-bit",
   "language": "python",
   "name": "python3"
  },
  "language_info": {
   "codemirror_mode": {
    "name": "ipython",
    "version": 3
   },
   "file_extension": ".py",
   "mimetype": "text/x-python",
   "name": "python",
   "nbconvert_exporter": "python",
   "pygments_lexer": "ipython3",
   "version": "3.10.2"
  },
  "orig_nbformat": 4
 },
 "nbformat": 4,
 "nbformat_minor": 2
}
