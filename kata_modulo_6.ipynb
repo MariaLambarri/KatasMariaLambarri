{
 "cells": [
  {
   "cell_type": "markdown",
   "metadata": {},
   "source": [
    "Ejercicio #1\n",
    "- Usar y crear listas de Python"
   ]
  },
  {
   "cell_type": "code",
   "execution_count": 16,
   "metadata": {},
   "outputs": [
    {
     "name": "stdout",
     "output_type": "stream",
     "text": [
      "Hay 8 planetas en el sistema solar\n",
      "Plutón es el ultimo planeta\n"
     ]
    }
   ],
   "source": [
    "#Crear y mostrar la lista de planetas\n",
    "planetas = ['Mercurio','Venus','Tierra', 'Marte', 'Jupiter', 'Saturno', 'Urano', 'Neptuno']\n",
    "print('Hay', len(planetas), 'planetas en el sistema solar')\n",
    "\n",
    "# Agregar a plutón y mostrar el ultimo elemento\n",
    "planetas.append('Plutón')\n",
    "print(planetas[-1], 'es el ultimo planeta')"
   ]
  },
  {
   "cell_type": "markdown",
   "metadata": {},
   "source": [
    "Ejercicio #2\n",
    "-   Usar slices para recuperar partes de una lista\n",
    "-   Mostrar planetas más cerca y más lejos del sol"
   ]
  },
  {
   "cell_type": "code",
   "execution_count": 25,
   "metadata": {},
   "outputs": [
    {
     "name": "stdout",
     "output_type": "stream",
     "text": [
      "Jupiter es el planeta número 5 en el sistema solar\n",
      "Los planetas mas alejados del sol que Jupiter son los siguientes:\n",
      "['Mercurio', 'Venus', 'Tierra', 'Marte']\n"
     ]
    }
   ],
   "source": [
    "#Lista de planetas\n",
    "planetas = ['Mercurio','Venus','Tierra', 'Marte', 'Jupiter', 'Saturno', 'Urano', 'Neptuno']\n",
    "\n",
    "#Solicitar el nombre de un planeta al usuario\n",
    "planeta=input ('Ingresa el nombre de un planeta, recuerda que la primera letra debe ser mayúscula')\n",
    "\n",
    "#Encontrar el planeta en la lista\n",
    "buscar_planeta_en_lista= planetas.index(planeta)\n",
    "print(planeta, 'es el planeta número', buscar_planeta_en_lista + 1, 'en el sistema solar')\n",
    "\n",
    "#Mostrar el planeta más cercano al sol\n",
    "print('Los planetas mas alejados del sol que ' + planeta + ' son los siguientes:')\n",
    "print(planetas[0:buscar_planeta_en_lista])"
   ]
  }
 ],
 "metadata": {
  "interpreter": {
   "hash": "33541a670e8887513ebdf0f19cec6625b51694c5ef6b1c7e83282c54d5cd54e5"
  },
  "kernelspec": {
   "display_name": "Python 3.10.2 64-bit",
   "language": "python",
   "name": "python3"
  },
  "language_info": {
   "codemirror_mode": {
    "name": "ipython",
    "version": 3
   },
   "file_extension": ".py",
   "mimetype": "text/x-python",
   "name": "python",
   "nbconvert_exporter": "python",
   "pygments_lexer": "ipython3",
   "version": "3.10.2"
  },
  "orig_nbformat": 4
 },
 "nbformat": 4,
 "nbformat_minor": 2
}
