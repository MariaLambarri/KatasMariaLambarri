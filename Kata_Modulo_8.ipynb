{
 "cells": [
  {
   "cell_type": "markdown",
   "metadata": {},
   "source": [
    "Ejercicio #1\n",
    "-   Crear diccionario que almacene información sobre el planeta marte"
   ]
  },
  {
   "cell_type": "code",
   "execution_count": 15,
   "metadata": {},
   "outputs": [
    {
     "name": "stdout",
     "output_type": "stream",
     "text": [
      "Marte tiene 2 lunas\n",
      "Marte tiene una circunferencia de 6752\n"
     ]
    }
   ],
   "source": [
    "# Creando el diccionario\n",
    "planeta = {\n",
    "    'nombre': 'Marte',\n",
    "    'moons': 2,\n",
    "}\n",
    "\n",
    "# Mostrar el nombre del planeta y el número de lunas que tiene\n",
    "#print(f'{planeta[\"nombre\"]} tiene {planeta[\"moons\"]} lunas')\n",
    "print(planeta[\"nombre\"],'tiene', planeta[\"moons\"], 'lunas')\n",
    "\n",
    "# Agrega la clave circunferencia con los datos proporcionados previamente\n",
    "planeta['circumferencia (km)'] = {\n",
    "    'polar': 6752,\n",
    "    'equatorial': 6792\n",
    "}\n",
    "#Imprimir el nombre del planeta con circunferencia polar\n",
    "print(planeta[\"nombre\"], 'tiene una circunferencia de', planeta['circumferencia (km)'][\"polar\"] )"
   ]
  },
  {
   "cell_type": "markdown",
   "metadata": {},
   "source": [
    "Ejercicio #2 \n",
    "-   Programación dinamica con diccionarios\n",
    "-   Cálcular el número total de lunas en el sistema solar como el número promedio de lunas que tiene un planeta."
   ]
  },
  {
   "cell_type": "code",
   "execution_count": 17,
   "metadata": {},
   "outputs": [
    {
     "name": "stdout",
     "output_type": "stream",
     "text": [
      "17.833333333333332\n"
     ]
    }
   ],
   "source": [
    "planetas_lunas = {\n",
    "    'mercurio': 0,\n",
    "    'venus': 0,\n",
    "    'tierra': 1,\n",
    "    'marte': 2,\n",
    "    'jupiter': 79,\n",
    "    'saturno': 82,\n",
    "    'urano': 27,\n",
    "    'neptuno': 14,\n",
    "    'pluton': 5,\n",
    "    'haumea': 2,\n",
    "    'makemake': 1,\n",
    "    'eris': 1\n",
    "}\n",
    "\n",
    "# Varriable para guardar lunas\n",
    "lunas = planetas_lunas.values()\n",
    "\n",
    "# Total de planetas y y almacenamos en una variable llamada años\n",
    "planetas=len(planetas_lunas.keys())\n",
    "\n",
    "# Calcular el total de lunas y almacenar su valor.\n",
    "total_lunas=0\n",
    "for lunas in lunas:\n",
    "    total_lunas = total_lunas + lunas\n",
    "#Calcular el promedio  \n",
    "promedio = total_lunas / planetas\n",
    "print(promedio)\n"
   ]
  }
 ],
 "metadata": {
  "interpreter": {
   "hash": "33541a670e8887513ebdf0f19cec6625b51694c5ef6b1c7e83282c54d5cd54e5"
  },
  "kernelspec": {
   "display_name": "Python 3.10.2 64-bit",
   "language": "python",
   "name": "python3"
  },
  "language_info": {
   "codemirror_mode": {
    "name": "ipython",
    "version": 3
   },
   "file_extension": ".py",
   "mimetype": "text/x-python",
   "name": "python",
   "nbconvert_exporter": "python",
   "pygments_lexer": "ipython3",
   "version": "3.10.2"
  },
  "orig_nbformat": 4
 },
 "nbformat": 4,
 "nbformat_minor": 2
}
