{
 "cells": [
  {
   "cell_type": "markdown",
   "metadata": {},
   "source": [
    "Ejercicio #1\n",
    "- Añadir el código necesario para crear una variable que guarde la velocidad del asteroide.\n",
    "- Escribe una expresión de prueba para calcular si necesita una advertencia.\n",
    "- Agregue las instrucciones que se ejecutarán si la expresión de prueba es true o false.\n",
    "\n",
    "Alerta a cualquier velocidad superior a 25 kilometros\n",
    "Ateroide viaja a una velocidad de 49 Km/s"
   ]
  },
  {
   "cell_type": "code",
   "execution_count": 2,
   "metadata": {},
   "outputs": [
    {
     "name": "stdout",
     "output_type": "stream",
     "text": [
      "¡Esta es una alerta! Un asteroide se acerca a tierra a gran velocidad\n"
     ]
    }
   ],
   "source": [
    "velocidad_asteroide = 49\n",
    "velocidad_superior = 25\n",
    "\n",
    "if (velocidad_asteroide > velocidad_superior):\n",
    "    print('¡Esta es una alerta! Un asteroide se acerca a tierra a gran velocidad') \n",
    "else:\n",
    "     print('Sin novedades')"
   ]
  },
  {
   "cell_type": "markdown",
   "metadata": {},
   "source": [
    "Ejercicio #2\n",
    "- Agrega el código para crear una variable para un asteroide que viaja a 19 km/s\n",
    "- Escribe varias expresiones de prueba para determinar si puedes ver el rayo de luz desde la tierra\n",
    "- Agrega las instrucciones que se ejecutarán si las expresiones de prueba son de true o false. "
   ]
  },
  {
   "cell_type": "code",
   "execution_count": 3,
   "metadata": {},
   "outputs": [
    {
     "name": "stdout",
     "output_type": "stream",
     "text": [
      "No hay alerta sobre alguna luz producida por un asteroide\n"
     ]
    }
   ],
   "source": [
    "velocidad_asteroide = 20\n",
    "Velocidad_asteroide_dirijiendosea_tierra = 19\n",
    "\n",
    "if (Velocidad_asteroide_dirijiendosea_tierra >= velocidad_asteroide):\n",
    "    print('Mira al cielo, un asteroide esta dando un rayo de luz')\n",
    "\n",
    "elif(Velocidad_asteroide_dirijiendosea_tierra == velocidad_asteroide):\n",
    "    print('Mira al cielo un asteroide está dando un rayo de luz')\n",
    "else:\n",
    "    print('No hay alerta sobre alguna luz producida por un asteroide')"
   ]
  },
  {
   "cell_type": "markdown",
   "metadata": {},
   "source": [
    "Ejercicio #3\n",
    "- Agrega el código para crear nuevas variables para la velocidad y el tamaño del asteroide\n",
    "- Para probar el código, prueba con varias velocidades y tamaños\n",
    "- Escribe varias expresiones de prueba o combinaciones de expresiones de prueba para determinar qué mensaje se debe enviar"
   ]
  },
  {
   "cell_type": "code",
   "execution_count": 3,
   "metadata": {},
   "outputs": [
    {
     "name": "stdout",
     "output_type": "stream",
     "text": [
      "Es probable que este asteroide se queme a medida que entre a la atmosfera de la tierra\n"
     ]
    }
   ],
   "source": [
    "velocidad_asteroide=25\n",
    "tamaño_asteroide = 40\n",
    "\n",
    "if (tamaño_asteroide<25):\n",
    "    print('Es probable que este asteroide se queme a medida que entre a la atmosfera de la tierra')\n",
    "elif(tamaño_asteroide>25 or tamaño_asteroide< 1000):\n",
    "    print('Este asteroide golpeara la tierra')\n",
    "elif(velocidad_asteroide>25):\n",
    "    print('Un asteroide se aproxima a la tierra')\n",
    "else:\n",
    "    print('Sin alertas')"
   ]
  },
  {
   "cell_type": "code",
   "execution_count": 3,
   "metadata": {},
   "outputs": [
    {
     "name": "stdout",
     "output_type": "stream",
     "text": [
      "Alerta, un asteroide muy peligroso viene hacia la tierra!\n"
     ]
    }
   ],
   "source": [
    "velocidad_asteroide=25\n",
    "tamaño_asteroide = 40\n",
    "\n",
    "if (velocidad_asteroide> 25 or tamaño_asteroide>25):\n",
    "    print('Alerta, un asteroide muy peligroso viene hacia la tierra!')\n",
    "elif(velocidad_asteroide >=20):\n",
    "    print('¡Hay luz magica en el cielo!')\n",
    "elif(tamaño_asteroide < 25):\n",
    "    print('Sin novedades')"
   ]
  }
 ],
 "metadata": {
  "interpreter": {
   "hash": "33541a670e8887513ebdf0f19cec6625b51694c5ef6b1c7e83282c54d5cd54e5"
  },
  "kernelspec": {
   "display_name": "Python 3.10.2 64-bit",
   "language": "python",
   "name": "python3"
  },
  "language_info": {
   "codemirror_mode": {
    "name": "ipython",
    "version": 3
   },
   "file_extension": ".py",
   "mimetype": "text/x-python",
   "name": "python",
   "nbconvert_exporter": "python",
   "pygments_lexer": "ipython3",
   "version": "3.10.2"
  },
  "orig_nbformat": 4
 },
 "nbformat": 4,
 "nbformat_minor": 2
}
