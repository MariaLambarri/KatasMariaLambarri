{
 "cells": [
  {
   "cell_type": "markdown",
   "metadata": {},
   "source": [
    "Ejercicio #1\n",
    "- Crear un programa que pueda calcular la distamcia entre dos planetas.\n",
    "- Tierra:  (149.597.870 km), \n",
    "- Júpiter (778.547.200 km)."
   ]
  },
  {
   "cell_type": "code",
   "execution_count": 12,
   "metadata": {},
   "outputs": [
    {
     "name": "stdout",
     "output_type": "stream",
     "text": [
      "390577534\n"
     ]
    }
   ],
   "source": [
    "from math import ceil\n",
    "\n",
    "Distancia_tierra = 149597870\n",
    "Distancia_jupiter = 778547200\n",
    "\n",
    "Distancia_km=Distancia_jupiter - Distancia_tierra\n",
    "Distancia_en_millas=ceil(Distancia_km * 0.621)\n",
    "\n",
    "print(Distancia_en_millas)"
   ]
  },
  {
   "cell_type": "markdown",
   "metadata": {},
   "source": [
    "Ejercicio #2\n",
    "-  Aplicación para trabajar con númerps y entrada de usuarios. \n",
    "-  Leer la distancia del sol para dos planetas  "
   ]
  },
  {
   "cell_type": "code",
   "execution_count": 18,
   "metadata": {},
   "outputs": [
    {
     "name": "stdout",
     "output_type": "stream",
     "text": [
      "50300000\n",
      "31236300\n"
     ]
    }
   ],
   "source": [
    "#Leer valores\n",
    "from math import ceil\n",
    "planeta_1 = input (\"¿Cual es la distancia del primer planeta?\")\n",
    "planeta_2 = input (\"¿Cual es la distancia del segundo planeta?\")\n",
    "\n",
    "#Convertir a número\n",
    "Distancia_plneta_convertido_a_numero = int(planeta_1)\n",
    "Distancia_plneta2_convertido_a_numero = int(planeta_2)\n",
    "\n",
    "#Realizando el cálculo\n",
    "Distancia_del_sol_km= abs(Distancia_plneta2_convertido_a_numero -Distancia_plneta_convertido_a_numero)\n",
    "print(Distancia_del_sol_km)\n",
    "distancia_del_sol_mi= Distancia_del_sol_km * 0.621\n",
    "print(ceil(distancia_del_sol_mi))"
   ]
  }
 ],
 "metadata": {
  "interpreter": {
   "hash": "33541a670e8887513ebdf0f19cec6625b51694c5ef6b1c7e83282c54d5cd54e5"
  },
  "kernelspec": {
   "display_name": "Python 3.10.2 64-bit",
   "language": "python",
   "name": "python3"
  },
  "language_info": {
   "codemirror_mode": {
    "name": "ipython",
    "version": 3
   },
   "file_extension": ".py",
   "mimetype": "text/x-python",
   "name": "python",
   "nbconvert_exporter": "python",
   "pygments_lexer": "ipython3",
   "version": "3.10.2"
  },
  "orig_nbformat": 4
 },
 "nbformat": 4,
 "nbformat_minor": 2
}
